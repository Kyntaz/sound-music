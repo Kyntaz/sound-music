{
 "cells": [
  {
   "cell_type": "markdown",
   "metadata": {},
   "source": [
    "# Generic Playground"
   ]
  },
  {
   "cell_type": "code",
   "execution_count": 13,
   "metadata": {},
   "outputs": [
    {
     "name": "stdout",
     "output_type": "stream",
     "text": [
      "-3.1415927\n"
     ]
    }
   ],
   "source": [
    "%matplotlib inline\n",
    "import librosa as lr\n",
    "import librosa.display\n",
    "import numpy as np\n",
    "import matplotlib.pyplot as plt\n",
    "import cmath as cmat\n",
    "\n",
    "path = \"../dataset/splash.wav\"\n",
    "wave, sr = lr.load(path)\n",
    "\n",
    "# Start here --\n",
    "fft = lr.stft(wave)\n",
    "fft_a = np.abs(fft)\n",
    "fft_ph = np.angle(fft)\n",
    "fft_comp_a = - fft_a + fft_a.max()\n",
    "print(fft_ph.min())"
   ]
  }
 ],
 "metadata": {
  "kernelspec": {
   "display_name": "Python 3.8.1 64-bit (conda)",
   "language": "python",
   "name": "python38164bitcondab32c79142c784e5c824a8f79e82b4f9e"
  },
  "language_info": {
   "codemirror_mode": {
    "name": "ipython",
    "version": 3
   },
   "file_extension": ".py",
   "mimetype": "text/x-python",
   "name": "python",
   "nbconvert_exporter": "python",
   "pygments_lexer": "ipython3",
   "version": "3.8.1"
  }
 },
 "nbformat": 4,
 "nbformat_minor": 2
}
