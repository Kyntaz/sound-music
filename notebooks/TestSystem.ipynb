{
 "cells": [
  {
   "cell_type": "code",
   "execution_count": 1,
   "metadata": {},
   "outputs": [],
   "source": [
    "# Slightly change the python environment to run from the root.\n",
    "import sys\n",
    "import os.path\n",
    "os.chdir('..')\n",
    "sys.path.append(os.path.abspath('.'))"
   ]
  },
  {
   "cell_type": "code",
   "execution_count": 2,
   "metadata": {},
   "outputs": [],
   "source": [
    "# Import stuff\n",
    "from SoundMusic import *\n",
    "import IPython.display as ipd\n",
    "import librosa as lr"
   ]
  },
  {
   "cell_type": "code",
   "execution_count": null,
   "metadata": {
    "scrolled": true
   },
   "outputs": [
    {
     "name": "stdout",
     "output_type": "stream",
     "text": [
      "Reading audio file ./dataset/0.wav...\n",
      "Read successfuly.\n",
      "Starting processing...\n",
      "Segmenting audio...\n",
      "Segmentation done. Audio split into 1 segments\n",
      "Extracting features...\n",
      "Features extracted!\n",
      "Extracting events...\n",
      "Extracted 199 events.\n",
      "Generating instruments...\n",
      "Generated 5 instruments.\n",
      "Generating motifs...\n",
      "Generated 1 motifs.\n",
      "Arranging pieces...\n",
      "Prepared 1 pieces.\n",
      "Running the genetig algorithm...\n",
      "Genetic algorithm completed with score 0.\n",
      "Rendering audio...\n",
      "Processing done!\n",
      "Reading audio file ./dataset/1.wav...\n",
      "Read successfuly.\n",
      "Starting processing...\n",
      "Segmenting audio...\n",
      "Segmentation done. Audio split into 1 segments\n",
      "Extracting features...\n",
      "Features extracted!\n",
      "Extracting events...\n",
      "Extracted 145 events.\n",
      "Generating instruments...\n",
      "Generated 5 instruments.\n",
      "Generating motifs...\n",
      "Generated 1 motifs.\n",
      "Arranging pieces...\n",
      "Prepared 1 pieces.\n",
      "Running the genetig algorithm...\n",
      "Genetic algorithm completed with score 0.\n",
      "Rendering audio...\n",
      "Processing done!\n",
      "Reading audio file ./dataset/2.wav...\n",
      "Read successfuly.\n",
      "Starting processing...\n",
      "Segmenting audio...\n",
      "Segmentation done. Audio split into 1 segments\n",
      "Extracting features...\n",
      "Features extracted!\n",
      "Extracting events...\n",
      "Extracted 128 events.\n",
      "Generating instruments...\n",
      "Generated 5 instruments.\n",
      "Generating motifs...\n",
      "Generated 1 motifs.\n",
      "Arranging pieces...\n",
      "Prepared 1 pieces.\n",
      "Running the genetig algorithm...\n",
      "Genetic algorithm completed with score 0.\n",
      "Rendering audio...\n"
     ]
    },
    {
     "name": "stderr",
     "output_type": "stream",
     "text": [
      "D:\\Stuff\\sound-music\\SoundMusic\\AudioRendering.py:20: UserWarning: Could not render a note.\n",
      "  except: warnings.warn(\"Could not render a note.\")\n"
     ]
    },
    {
     "name": "stdout",
     "output_type": "stream",
     "text": [
      "Processing done!\n",
      "Reading audio file ./dataset/3.wav...\n",
      "Read successfuly.\n",
      "Starting processing...\n",
      "Segmenting audio...\n",
      "Segmentation done. Audio split into 1 segments\n",
      "Extracting features...\n",
      "Features extracted!\n",
      "Extracting events...\n",
      "Extracted 142 events.\n",
      "Generating instruments...\n",
      "Generated 5 instruments.\n",
      "Generating motifs...\n",
      "Generated 1 motifs.\n",
      "Arranging pieces...\n",
      "Prepared 1 pieces.\n",
      "Running the genetig algorithm...\n",
      "Genetic algorithm completed with score 0.\n",
      "Rendering audio...\n"
     ]
    }
   ],
   "source": [
    "audios, debug = process_dataset(0,len(get_dataset()))"
   ]
  },
  {
   "cell_type": "code",
   "execution_count": null,
   "metadata": {
    "scrolled": true
   },
   "outputs": [],
   "source": [
    "for audio in audios:\n",
    "    ipd.display_html(ipd.Audio(audio.data, rate=audio.smpRt))"
   ]
  },
  {
   "cell_type": "code",
   "execution_count": null,
   "metadata": {
    "scrolled": true
   },
   "outputs": [],
   "source": [
    "for d in debug:\n",
    "    name = d[\"filename\"]\n",
    "    ipd.display(ipd.HTML(f'<b>{name}:</b>'))\n",
    "    for ii,i in enumerate(d[\"instruments\"]):\n",
    "        print(f'--- {ii} ---')\n",
    "        for p in i.event_map:\n",
    "            n = lr.midi_to_note(p)\n",
    "            print(f'{n}:')\n",
    "            ipd.display(ipd.Audio(data=i.event_map[p].data, rate=audios[0].smpRt))"
   ]
  }
 ],
 "metadata": {
  "kernelspec": {
   "display_name": "Python 3.8.1 64-bit (conda)",
   "language": "python",
   "name": "python38164bitcondab32c79142c784e5c824a8f79e82b4f9e"
  },
  "language_info": {
   "codemirror_mode": {
    "name": "ipython",
    "version": 3
   },
   "file_extension": ".py",
   "mimetype": "text/x-python",
   "name": "python",
   "nbconvert_exporter": "python",
   "pygments_lexer": "ipython3",
   "version": "3.8.1"
  }
 },
 "nbformat": 4,
 "nbformat_minor": 2
}
